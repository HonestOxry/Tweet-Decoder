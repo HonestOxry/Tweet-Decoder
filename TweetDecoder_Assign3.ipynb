{
  "cells": [
    {
      "cell_type": "markdown",
      "metadata": {
        "id": "Y2VR5yE2Q1lD"
      },
      "source": [
        "# Preprocessing\n",
        "\n",
        "In this Assignment, we will be exploring how to preprocess tweets for sentiment analysis. \n"
      ]
    },
    {
      "cell_type": "code",
      "execution_count": 1,
      "metadata": {
        "id": "Try8QG5xQ1lL"
      },
      "outputs": [],
      "source": [
        "import nltk                                # Python library for NLP\n",
        "from nltk.corpus import twitter_samples    # sample Twitter dataset from NLTK\n",
        "import matplotlib.pyplot as plt            # library for visualization\n",
        "import random                              # pseudo-random number generator"
      ]
    },
    {
      "cell_type": "markdown",
      "metadata": {
        "id": "puelnnDoQ1lM"
      },
      "source": [
        "## About the Twitter dataset\n",
        "\n",
        "The sample dataset from NLTK is separated into positive and negative tweets. It contains 5000 positive tweets and 5000 negative tweets exactly. The exact match between these classes is not a coincidence. The intention is to have a balanced dataset. That does not reflect the real distributions of positive and negative classes in live Twitter streams.\n",
        "\n"
      ]
    },
    {
      "cell_type": "code",
      "execution_count": 2,
      "metadata": {
        "colab": {
          "base_uri": "https://localhost:8080/"
        },
        "id": "zxKktlhMQ1lN",
        "outputId": "c9a08536-01c3-408a-c4ab-b46ee21e108a"
      },
      "outputs": [
        {
          "output_type": "stream",
          "name": "stderr",
          "text": [
            "[nltk_data] Downloading package twitter_samples to /root/nltk_data...\n",
            "[nltk_data]   Unzipping corpora/twitter_samples.zip.\n"
          ]
        },
        {
          "output_type": "execute_result",
          "data": {
            "text/plain": [
              "True"
            ]
          },
          "metadata": {},
          "execution_count": 2
        }
      ],
      "source": [
        "# downloads sample twitter dataset.\n",
        "nltk.download('twitter_samples')"
      ]
    },
    {
      "cell_type": "markdown",
      "metadata": {
        "id": "ZjWs6tqbQ1lN"
      },
      "source": [
        "We can load the text fields of the positive and negative tweets by using the module's `strings()` method like this:"
      ]
    },
    {
      "cell_type": "code",
      "execution_count": 3,
      "metadata": {
        "id": "cCN9YKaCQ1lN"
      },
      "outputs": [],
      "source": [
        "# select the set of positive and negative tweets\n",
        "all_positive_tweets = twitter_samples.strings('positive_tweets.json')\n",
        "all_negative_tweets = twitter_samples.strings('negative_tweets.json')"
      ]
    },
    {
      "cell_type": "markdown",
      "metadata": {
        "id": "rfK_KjdIQ1lO"
      },
      "source": [
        "Next, we'll print a report with the number of positive and negative tweets. It is also essential to know the data structure of the datasets"
      ]
    },
    {
      "cell_type": "code",
      "execution_count": 4,
      "metadata": {
        "colab": {
          "base_uri": "https://localhost:8080/"
        },
        "id": "_XrygbufQ1lO",
        "outputId": "3b5cf9b0-aa2a-4999-fb6e-74551d18603d"
      },
      "outputs": [
        {
          "output_type": "stream",
          "name": "stdout",
          "text": [
            "Number of positive tweets:  5000\n",
            "Number of negative tweets:  5000\n",
            "\n",
            "The type of all_positive_tweets is:  <class 'list'>\n",
            "The type of a tweet entry is:  <class 'str'>\n",
            "hopeless for tmr :(\n"
          ]
        }
      ],
      "source": [
        "print('Number of positive tweets: ', len(all_positive_tweets))\n",
        "print('Number of negative tweets: ', len(all_negative_tweets))\n",
        "\n",
        "print('\\nThe type of all_positive_tweets is: ', type(all_positive_tweets))\n",
        "print('The type of a tweet entry is: ', type(all_negative_tweets[0]))\n",
        "print(all_negative_tweets[0])"
      ]
    },
    {
      "cell_type": "markdown",
      "metadata": {
        "id": "Y9SEd0krQ1lP"
      },
      "source": [
        "## Looking at raw texts\n",
        "\n",
        "\n",
        "\n",
        "Below, you will print one random positive and one random negative tweet. "
      ]
    },
    {
      "cell_type": "code",
      "execution_count": 5,
      "metadata": {
        "colab": {
          "base_uri": "https://localhost:8080/"
        },
        "id": "x_4GnNOMQ1lP",
        "outputId": "ef98ffcd-7d39-4ab5-b088-23ee9f30b959"
      },
      "outputs": [
        {
          "output_type": "stream",
          "name": "stdout",
          "text": [
            "Stats for the day have arrived. 1 new follower and NO unfollowers :) via http://t.co/Smqz6YKvEc.\n",
            "@Kellipage17 Seriously?! That's amazing! #jealous Why am I never a first fan :( haha\n"
          ]
        }
      ],
      "source": [
        "print(all_positive_tweets[random.randint(0,5000)])\n",
        "print(all_negative_tweets[random.randint(0,5000)])"
      ]
    },
    {
      "cell_type": "markdown",
      "metadata": {
        "id": "VlhrXoUrQ1lQ"
      },
      "source": [
        "## Preprocess raw text for Sentiment analysis"
      ]
    },
    {
      "cell_type": "markdown",
      "metadata": {
        "id": "a3lDAfnMQ1lQ"
      },
      "source": [
        "Data preprocessing is one of the critical steps in any machine learning project. It includes cleaning and formatting the data before feeding into a machine learning algorithm. For NLP, the preprocessing steps are comprised of the following tasks:\n",
        "\n",
        "* Tokenizing the string\n",
        "* Lowercasing\n",
        "* Removing stop words and punctuation\n",
        "* Stemming\n",
        "\n",
        "\n"
      ]
    },
    {
      "cell_type": "code",
      "execution_count": 6,
      "metadata": {
        "colab": {
          "base_uri": "https://localhost:8080/"
        },
        "id": "bm6bNsrzQ1lQ",
        "outputId": "c9cb386d-b8b2-49f6-82e5-65e3249b9bee"
      },
      "outputs": [
        {
          "output_type": "stream",
          "name": "stdout",
          "text": [
            "My beautiful sunflowers on a sunny Friday morning off :) #sunflowers #favourites #happy #Friday off… https://t.co/3tfYom0N1i\n"
          ]
        }
      ],
      "source": [
        "# Our selected sample. Complex enough to exemplify each step\n",
        "tweet = all_positive_tweets[2277]\n",
        "print(tweet)"
      ]
    },
    {
      "cell_type": "markdown",
      "metadata": {
        "id": "YyZR0yYwQ1lQ"
      },
      "source": [
        "Let's import a few more libraries for this purpose."
      ]
    },
    {
      "cell_type": "code",
      "execution_count": 7,
      "metadata": {
        "colab": {
          "base_uri": "https://localhost:8080/"
        },
        "id": "tcviT9auQ1lR",
        "outputId": "fba2aca6-b871-48ad-d1f4-eb1b6cbd9e3a"
      },
      "outputs": [
        {
          "output_type": "stream",
          "name": "stderr",
          "text": [
            "[nltk_data] Downloading package stopwords to /root/nltk_data...\n",
            "[nltk_data]   Unzipping corpora/stopwords.zip.\n"
          ]
        },
        {
          "output_type": "execute_result",
          "data": {
            "text/plain": [
              "True"
            ]
          },
          "metadata": {},
          "execution_count": 7
        }
      ],
      "source": [
        "# download the stopwords from NLTK\n",
        "nltk.download('stopwords')"
      ]
    },
    {
      "cell_type": "code",
      "execution_count": 8,
      "metadata": {
        "id": "aT8QHMY5Q1lR"
      },
      "outputs": [],
      "source": [
        "import re                                  # library for regular expression operations\n",
        "import string                              # for string operations\n",
        "\n",
        "from nltk.corpus import stopwords          # module for stop words that come with NLTK\n",
        "from nltk.stem import PorterStemmer        # module for stemming\n",
        "from nltk.tokenize import TweetTokenizer   # module for tokenizing strings"
      ]
    },
    {
      "cell_type": "markdown",
      "metadata": {
        "id": "VG3ImX_IQ1lR"
      },
      "source": [
        "### Remove hyperlinks,  Twitter marks and styles\n",
        "\n",
        "Since we have a Twitter dataset, we'd like to remove some substrings commonly used on the platform like the hashtag, retweet marks, and hyperlinks. We'll use the [re](https://docs.python.org/3/library/re.html) library to perform regular expression operations on our tweet. We'll define our search pattern and use the `sub()` method to remove matches by substituting with an empty character (i.e. `''`)"
      ]
    },
    {
      "cell_type": "code",
      "execution_count": 9,
      "metadata": {
        "colab": {
          "base_uri": "https://localhost:8080/"
        },
        "id": "a5IcXDqkQ1lR",
        "outputId": "f89cffff-702a-4eb1-d676-0054215a1ff7",
        "scrolled": true
      },
      "outputs": [
        {
          "output_type": "stream",
          "name": "stdout",
          "text": [
            "My beautiful sunflowers on a sunny Friday morning off :) sunflowers favourites happy Friday off… \n"
          ]
        }
      ],
      "source": [
        "# remove old style retweet text \"RT\"\n",
        "tweet2 = re.sub(r'^RT[\\s]+', '', tweet)\n",
        "\n",
        "# remove hyperlinks\n",
        "tweet2 = re.sub(r'https?://[^\\s\\n\\r]+', '', tweet2)\n",
        "\n",
        "# remove hashtags\n",
        "# only removing the hash # sign from the word\n",
        "tweet2 = re.sub(r'#', '', tweet2)\n",
        "\n",
        "print(tweet2)"
      ]
    },
    {
      "cell_type": "markdown",
      "metadata": {
        "id": "pHn6jA0tQ1lR"
      },
      "source": [
        "### Tokenize the string\n",
        "\n",
        "To tokenize means to split the strings into individual words without blanks or tabs. In this same step, we will also convert each word in the string to lower case. The [tokenize](https://www.nltk.org/api/nltk.tokenize.html#module-nltk.tokenize.casual) module from NLTK allows us to do these easily:"
      ]
    },
    {
      "cell_type": "code",
      "execution_count": 10,
      "metadata": {
        "colab": {
          "base_uri": "https://localhost:8080/"
        },
        "id": "TzLGfUX3Q1lS",
        "outputId": "6bf9271b-cdd6-4223-9e82-84969e028c4b"
      },
      "outputs": [
        {
          "output_type": "stream",
          "name": "stdout",
          "text": [
            "\n",
            "Tokenized string:\n",
            "['my', 'beautiful', 'sunflowers', 'on', 'a', 'sunny', 'friday', 'morning', 'off', ':)', 'sunflowers', 'favourites', 'happy', 'friday', 'off', '…']\n"
          ]
        }
      ],
      "source": [
        "# instantiate tokenizer class\n",
        "tokenizer = TweetTokenizer(preserve_case=False, strip_handles=True,\n",
        "                               reduce_len=True)\n",
        "\n",
        "# tokenize tweets\n",
        "tweet_tokens = tokenizer.tokenize(tweet2)\n",
        "\n",
        "print()\n",
        "print('Tokenized string:')\n",
        "print(tweet_tokens)"
      ]
    },
    {
      "cell_type": "markdown",
      "metadata": {
        "id": "tzhpto5LQ1lS"
      },
      "source": [
        "### Remove stop words and punctuations\n",
        "\n",
        "The next step is to remove stop words and punctuation. Stop words are words that don't add significant meaning to the text. You'll see the list provided by NLTK when you run the cells below."
      ]
    },
    {
      "cell_type": "code",
      "execution_count": 11,
      "metadata": {
        "colab": {
          "base_uri": "https://localhost:8080/"
        },
        "id": "hEuUul5rQ1lS",
        "outputId": "e3e98852-26f3-494a-a944-2bdad98ab382"
      },
      "outputs": [
        {
          "output_type": "stream",
          "name": "stdout",
          "text": [
            "Stop words\n",
            "\n",
            "['i', 'me', 'my', 'myself', 'we', 'our', 'ours', 'ourselves', 'you', \"you're\", \"you've\", \"you'll\", \"you'd\", 'your', 'yours', 'yourself', 'yourselves', 'he', 'him', 'his', 'himself', 'she', \"she's\", 'her', 'hers', 'herself', 'it', \"it's\", 'its', 'itself', 'they', 'them', 'their', 'theirs', 'themselves', 'what', 'which', 'who', 'whom', 'this', 'that', \"that'll\", 'these', 'those', 'am', 'is', 'are', 'was', 'were', 'be', 'been', 'being', 'have', 'has', 'had', 'having', 'do', 'does', 'did', 'doing', 'a', 'an', 'the', 'and', 'but', 'if', 'or', 'because', 'as', 'until', 'while', 'of', 'at', 'by', 'for', 'with', 'about', 'against', 'between', 'into', 'through', 'during', 'before', 'after', 'above', 'below', 'to', 'from', 'up', 'down', 'in', 'out', 'on', 'off', 'over', 'under', 'again', 'further', 'then', 'once', 'here', 'there', 'when', 'where', 'why', 'how', 'all', 'any', 'both', 'each', 'few', 'more', 'most', 'other', 'some', 'such', 'no', 'nor', 'not', 'only', 'own', 'same', 'so', 'than', 'too', 'very', 's', 't', 'can', 'will', 'just', 'don', \"don't\", 'should', \"should've\", 'now', 'd', 'll', 'm', 'o', 're', 've', 'y', 'ain', 'aren', \"aren't\", 'couldn', \"couldn't\", 'didn', \"didn't\", 'doesn', \"doesn't\", 'hadn', \"hadn't\", 'hasn', \"hasn't\", 'haven', \"haven't\", 'isn', \"isn't\", 'ma', 'mightn', \"mightn't\", 'mustn', \"mustn't\", 'needn', \"needn't\", 'shan', \"shan't\", 'shouldn', \"shouldn't\", 'wasn', \"wasn't\", 'weren', \"weren't\", 'won', \"won't\", 'wouldn', \"wouldn't\"]\n",
            "\n",
            "Punctuation\n",
            "\n",
            "!\"#$%&'()*+,-./:;<=>?@[\\]^_`{|}~\n"
          ]
        }
      ],
      "source": [
        "#Import the english stop words list from NLTK\n",
        "stopwords_english = stopwords.words('english') \n",
        "\n",
        "print('Stop words\\n')\n",
        "print(stopwords_english)\n",
        "\n",
        "print('\\nPunctuation\\n')\n",
        "print(string.punctuation)"
      ]
    },
    {
      "cell_type": "markdown",
      "metadata": {
        "id": "CgLmDiBNQ1lS"
      },
      "source": [
        "We can see that the stop words list above contains some words that could be important in some contexts. \n",
        "\n",
        "\n",
        "Time to clean up our tokenized tweet!"
      ]
    },
    {
      "cell_type": "code",
      "execution_count": 12,
      "metadata": {
        "colab": {
          "base_uri": "https://localhost:8080/"
        },
        "id": "HNhIlrG1Q1lT",
        "outputId": "bb52c7e0-04d6-4ba8-f60c-355a7a258d3a"
      },
      "outputs": [
        {
          "output_type": "stream",
          "name": "stdout",
          "text": [
            "['my', 'beautiful', 'sunflowers', 'on', 'a', 'sunny', 'friday', 'morning', 'off', ':)', 'sunflowers', 'favourites', 'happy', 'friday', 'off', '…']\n",
            "removed stop words and punctuation:\n",
            "['beautiful', 'sunflowers', 'sunny', 'friday', 'morning', ':)', 'sunflowers', 'favourites', 'happy', 'friday', '…']\n"
          ]
        }
      ],
      "source": [
        "\n",
        "print(tweet_tokens)\n",
        "\n",
        "tweets_clean = []\n",
        "\n",
        "for word in tweet_tokens: # Go through every word in your tokens list\n",
        "    if (word not in stopwords_english and  # remove stopwords\n",
        "        word not in string.punctuation):  # remove punctuation\n",
        "        tweets_clean.append(word)\n",
        "\n",
        "print('removed stop words and punctuation:')\n",
        "print(tweets_clean)"
      ]
    },
    {
      "cell_type": "markdown",
      "metadata": {
        "id": "Lu-m6zZwQ1lT"
      },
      "source": [
        "Please note that the words **happy** and **sunny** in this list are correctly spelled. "
      ]
    },
    {
      "cell_type": "markdown",
      "metadata": {
        "id": "aYU0Fo6vQ1lT"
      },
      "source": [
        "### Stemming\n",
        "\n",
        "Stemming is the process of converting a word to its most general form, or stem. This helps in reducing the size of our vocabulary.\n",
        "\n",
        "Consider the words: \n",
        " * **learn**\n",
        " * **learn**ing\n",
        " * **learn**ed\n",
        " * **learn**t\n",
        " \n",
        "All these words are stemmed from its common root **learn**. However, in some cases, the stemming process produces words that are not correct spellings of the root word. For example, **happi** and **sunni**. That's because it chooses the most common stem for related words. For example, we can look at the set of words that comprises the different forms of happy:\n",
        "\n",
        " * **happ**y\n",
        " * **happi**ness\n",
        " * **happi**er\n",
        " \n",
        "We can see that the prefix **happi** is more commonly used. We cannot choose **happ** because it is the stem of unrelated words like **happen**.\n",
        " \n",
        "NLTK has different modules for stemming and we will be using the [PorterStemmer](https://www.nltk.org/api/nltk.stem.html#module-nltk.stem.porter) module which uses the [Porter Stemming Algorithm](https://tartarus.org/martin/PorterStemmer/). Let's see how we can use it in the cell below."
      ]
    },
    {
      "cell_type": "code",
      "execution_count": 13,
      "metadata": {
        "colab": {
          "base_uri": "https://localhost:8080/"
        },
        "id": "dPUI2hi3Q1lT",
        "outputId": "725fc8ef-f36a-4460-e156-39b982876a13"
      },
      "outputs": [
        {
          "output_type": "stream",
          "name": "stdout",
          "text": [
            "['beautiful', 'sunflowers', 'sunny', 'friday', 'morning', ':)', 'sunflowers', 'favourites', 'happy', 'friday', '…']\n",
            "stemmed words:\n",
            "['beauti', 'sunflow', 'sunni', 'friday', 'morn', ':)', 'sunflow', 'favourit', 'happi', 'friday', '…']\n"
          ]
        }
      ],
      "source": [
        "\n",
        "print(tweets_clean)\n",
        "\n",
        "# Instantiate stemming class\n",
        "stemmer = PorterStemmer() \n",
        "\n",
        "# Create an empty list to store the stems\n",
        "tweets_stem = [] \n",
        "\n",
        "for word in tweets_clean:\n",
        "    stem_word = stemmer.stem(word)  # stemming word\n",
        "    tweets_stem.append(stem_word)  # append to the list\n",
        "\n",
        "print('stemmed words:')\n",
        "print(tweets_stem)"
      ]
    },
    {
      "cell_type": "code",
      "execution_count": 14,
      "metadata": {
        "colab": {
          "base_uri": "https://localhost:8080/",
          "height": 36
        },
        "id": "-NlATHQ8z2Cc",
        "outputId": "1e0523e8-9435-4a98-e4d6-86a660766850"
      },
      "outputs": [
        {
          "output_type": "execute_result",
          "data": {
            "text/plain": [
              "'beauti sunflow sunni friday morn :) sunflow favourit happi friday …'"
            ],
            "application/vnd.google.colaboratory.intrinsic+json": {
              "type": "string"
            }
          },
          "metadata": {},
          "execution_count": 14
        }
      ],
      "source": [
        "processed_tweet=' '.join(tweets_stem)\n",
        "processed_tweet"
      ]
    },
    {
      "cell_type": "markdown",
      "metadata": {
        "id": "kXevPC2RQ1lU"
      },
      "source": [
        "That's it! Now we have a sentence which can be feed into to the next stage \n",
        "of our  project."
      ]
    },
    {
      "cell_type": "markdown",
      "metadata": {
        "id": "zBHp8KB83xz1"
      },
      "source": [
        "."
      ]
    },
    {
      "cell_type": "markdown",
      "metadata": {
        "id": "wlUUC5S33jMQ"
      },
      "source": [
        "PART 2: Sentimental Analysis"
      ]
    },
    {
      "cell_type": "code",
      "execution_count": 15,
      "metadata": {
        "colab": {
          "base_uri": "https://localhost:8080/"
        },
        "id": "Ifa_z4zG3MH_",
        "outputId": "d93bc89a-18fa-4d6f-bc4e-3a6e171859fe"
      },
      "outputs": [
        {
          "output_type": "stream",
          "name": "stderr",
          "text": [
            "[nltk_data] Downloading package twitter_samples to /root/nltk_data...\n",
            "[nltk_data]   Package twitter_samples is already up-to-date!\n"
          ]
        }
      ],
      "source": [
        "import numpy as np\n",
        "import pandas as pd\n",
        "nltk.download('twitter_samples')\n",
        "# select the lists of positive and negative tweets\n",
        "all_positive_tweets = twitter_samples.strings('positive_tweets.json')\n",
        "all_negative_tweets = twitter_samples.strings('negative_tweets.json')\n",
        "\n",
        "# concatenate the lists, 1st part is the positive tweets followed by the negative\n",
        "tweets = all_positive_tweets + all_negative_tweets"
      ]
    },
    {
      "cell_type": "code",
      "execution_count": 16,
      "metadata": {
        "colab": {
          "base_uri": "https://localhost:8080/"
        },
        "id": "P1qocwU-A_UO",
        "outputId": "9c614037-dc7b-4338-d1e3-a2e89c3af850"
      },
      "outputs": [
        {
          "output_type": "stream",
          "name": "stdout",
          "text": [
            "@amyewest Thanks! I hope you've got a good book to keep you company. :-)\n"
          ]
        }
      ],
      "source": [
        "#print tweets here\n",
        "\n",
        "i =random.randint(0,10000)\n",
        "print(tweets[i])        # printing any random tweet (can print all tweets using for loop)\n",
        "\n",
        "# print(len(tweets))\n",
        "# for i in range (10000):\n",
        "#   print(tweets[i])"
      ]
    },
    {
      "cell_type": "code",
      "execution_count": 17,
      "metadata": {
        "id": "VRQ9PKcs6gAy"
      },
      "outputs": [],
      "source": [
        "y=np.zeros(10000)\n",
        "for i in range(5000):\n",
        "  y[i]=1"
      ]
    },
    {
      "cell_type": "markdown",
      "metadata": {
        "id": "u28Un7Yc2w0x"
      },
      "source": [
        "Now make a function and implement pre-processing into all tweets and then make an array that contains all processed tweets as strings."
      ]
    },
    {
      "cell_type": "code",
      "execution_count": 18,
      "metadata": {
        "id": "tc36CJ9GBygp"
      },
      "outputs": [],
      "source": [
        "def process_tweet(tweet):\n",
        "    # Create a TweetTokenizer object\n",
        "    tokenizer = TweetTokenizer(preserve_case=False, strip_handles=True, reduce_len=True)\n",
        "\n",
        "    # Remove hyperlinks, Twitter handles, and special characters\n",
        "    tweet = re.sub(r'https?:\\/\\/\\S+|www\\.\\S+|@\\w+|#\\w+', '', tweet)\n",
        "    tweet = re.sub(r'\\W+', ' ', tweet)\n",
        "\n",
        "    # Tokenize the tweet\n",
        "    tweet_tokens = tokenizer.tokenize(tweet)\n",
        "\n",
        "    # Remove stopwords and stem the tokens\n",
        "    stemmer = PorterStemmer()\n",
        "    stop_words = set(stopwords.words('english'))\n",
        "    processed_tweet = [stemmer.stem(token) for token in tweet_tokens if token not in stop_words and word not in string.punctuation]\n",
        "\n",
        "    return ' '.join(processed_tweet)"
      ]
    },
    {
      "cell_type": "code",
      "execution_count": 19,
      "metadata": {
        "id": "DmnYrMXYCBFJ"
      },
      "outputs": [],
      "source": [
        "processed_tweets = np.array([process_tweet(tweet) for tweet in tweets])"
      ]
    },
    {
      "cell_type": "code",
      "execution_count": 20,
      "metadata": {
        "colab": {
          "base_uri": "https://localhost:8080/"
        },
        "id": "HLvmNbV_3W1z",
        "outputId": "5a63da1e-c90e-4381-c877-f45ab6e1cdc0"
      },
      "outputs": [
        {
          "output_type": "execute_result",
          "data": {
            "text/plain": [
              "array(['top engag member commun week',\n",
              "       'hey jame odd pleas call contact centr 02392441234 abl assist mani thank',\n",
              "       'listen last night bleed amaz track scotland', ...,\n",
              "       'jaebum babi pictur', 'mr ahmad maslan cook',\n",
              "       'hull support expect misser week'], dtype='<U123')"
            ]
          },
          "metadata": {},
          "execution_count": 20
        }
      ],
      "source": [
        "processed_tweets"
      ]
    },
    {
      "cell_type": "markdown",
      "metadata": {
        "id": "zDYnvp9u4Rn3"
      },
      "source": [
        "**Now** use **TfidfVectorizer** to vectorize your tweets into a numbered matrix \n",
        " **X**."
      ]
    },
    {
      "cell_type": "code",
      "execution_count": 21,
      "metadata": {
        "id": "hG2SOoi83bTd"
      },
      "outputs": [],
      "source": [
        "from sklearn.feature_extraction.text import TfidfVectorizer\n",
        "\n",
        "vectorizer = TfidfVectorizer()\n",
        "\n",
        "# Fit and transform the processed tweets to obtain the numerical matrix\n",
        "X = vectorizer.fit_transform(processed_tweets)\n",
        "\n",
        "# Convert the matrix to an array\n",
        "X = X.toarray()"
      ]
    },
    {
      "cell_type": "code",
      "execution_count": 22,
      "metadata": {
        "colab": {
          "base_uri": "https://localhost:8080/"
        },
        "id": "f2CF0-uXE4Db",
        "outputId": "a64da24a-8653-48a9-d94c-3dbf6ecd9799"
      },
      "outputs": [
        {
          "output_type": "execute_result",
          "data": {
            "text/plain": [
              "(10000, 9037)"
            ]
          },
          "metadata": {},
          "execution_count": 22
        }
      ],
      "source": [
        "X.shape"
      ]
    },
    {
      "cell_type": "markdown",
      "metadata": {
        "id": "WyO-tSZl7n4_"
      },
      "source": [
        "Now you have a matrix **X** and **y** implement a model to classify this tweets.\n",
        "\n",
        "Note: \n",
        "\n",
        "1) You can use sequential models with tensorflow in which use 2 nodes in last layer.\n",
        "\n",
        "2) The node which has a higher value while using *model.predict* corresponds to the output.\n",
        "\n",
        "3) Use **SparseCategoricalCrossentropy** as a loss function."
      ]
    },
    {
      "cell_type": "code",
      "execution_count": 23,
      "metadata": {
        "id": "iyha1mVG7fgh"
      },
      "outputs": [],
      "source": [
        "import tensorflow as tf\n",
        "from sklearn.model_selection import train_test_split\n",
        "\n",
        "X_train , X_test , y_train  , y_test  = train_test_split(X , y ,test_size = 0.2 , random_state = 42)\n"
      ]
    },
    {
      "cell_type": "code",
      "execution_count": 24,
      "metadata": {
        "id": "y4eXlaZbLXDt"
      },
      "outputs": [],
      "source": [
        "model = tf.keras.Sequential([\n",
        "    tf.keras.layers.Dense(64 ,activation = 'relu' , input_shape =(X_train.shape[1],)),\n",
        "    tf.keras.layers.Dense(2 ,activation = 'softmax' )\n",
        "\n",
        "])"
      ]
    },
    {
      "cell_type": "code",
      "execution_count": 25,
      "metadata": {
        "id": "IhKePmBFLeJ3"
      },
      "outputs": [],
      "source": [
        "model.compile(optimizer ='adam' , loss = 'sparse_categorical_crossentropy', metrics=['accuracy'])"
      ]
    },
    {
      "cell_type": "code",
      "execution_count": 27,
      "metadata": {
        "colab": {
          "base_uri": "https://localhost:8080/"
        },
        "id": "34lsNrg8Hfms",
        "outputId": "d995f636-93ed-4e07-812d-229c292712f6"
      },
      "outputs": [
        {
          "output_type": "stream",
          "name": "stdout",
          "text": [
            "Epoch 1/50\n",
            "250/250 [==============================] - 4s 17ms/step - loss: 0.3954 - accuracy: 0.8389\n",
            "Epoch 2/50\n",
            "250/250 [==============================] - 3s 12ms/step - loss: 0.2862 - accuracy: 0.8891\n",
            "Epoch 3/50\n",
            "250/250 [==============================] - 2s 9ms/step - loss: 0.2266 - accuracy: 0.9134\n",
            "Epoch 4/50\n",
            "250/250 [==============================] - 2s 9ms/step - loss: 0.1908 - accuracy: 0.9240\n",
            "Epoch 5/50\n",
            "250/250 [==============================] - 2s 9ms/step - loss: 0.1668 - accuracy: 0.9324\n",
            "Epoch 6/50\n",
            "250/250 [==============================] - 2s 10ms/step - loss: 0.1492 - accuracy: 0.9405\n",
            "Epoch 7/50\n",
            "250/250 [==============================] - 3s 13ms/step - loss: 0.1353 - accuracy: 0.9448\n",
            "Epoch 8/50\n",
            "250/250 [==============================] - 2s 9ms/step - loss: 0.1264 - accuracy: 0.9471\n",
            "Epoch 9/50\n",
            "250/250 [==============================] - 2s 9ms/step - loss: 0.1169 - accuracy: 0.9511\n",
            "Epoch 10/50\n",
            "250/250 [==============================] - 2s 10ms/step - loss: 0.1081 - accuracy: 0.9534\n",
            "Epoch 11/50\n",
            "250/250 [==============================] - 2s 10ms/step - loss: 0.1029 - accuracy: 0.9559\n",
            "Epoch 12/50\n",
            "250/250 [==============================] - 3s 13ms/step - loss: 0.0963 - accuracy: 0.9600\n",
            "Epoch 13/50\n",
            "250/250 [==============================] - 2s 9ms/step - loss: 0.0920 - accuracy: 0.9599\n",
            "Epoch 14/50\n",
            "250/250 [==============================] - 2s 9ms/step - loss: 0.0884 - accuracy: 0.9626\n",
            "Epoch 15/50\n",
            "250/250 [==============================] - 2s 9ms/step - loss: 0.0826 - accuracy: 0.9638\n",
            "Epoch 16/50\n",
            "250/250 [==============================] - 2s 9ms/step - loss: 0.0795 - accuracy: 0.9659\n",
            "Epoch 17/50\n",
            "250/250 [==============================] - 3s 13ms/step - loss: 0.0763 - accuracy: 0.9666\n",
            "Epoch 18/50\n",
            "250/250 [==============================] - 2s 10ms/step - loss: 0.0728 - accuracy: 0.9690\n",
            "Epoch 19/50\n",
            "250/250 [==============================] - 2s 9ms/step - loss: 0.0696 - accuracy: 0.9694\n",
            "Epoch 20/50\n",
            "250/250 [==============================] - 2s 9ms/step - loss: 0.0685 - accuracy: 0.9697\n",
            "Epoch 21/50\n",
            "250/250 [==============================] - 2s 9ms/step - loss: 0.0639 - accuracy: 0.9737\n",
            "Epoch 22/50\n",
            "250/250 [==============================] - 3s 12ms/step - loss: 0.0623 - accuracy: 0.9721\n",
            "Epoch 23/50\n",
            "250/250 [==============================] - 3s 10ms/step - loss: 0.0617 - accuracy: 0.9735\n",
            "Epoch 24/50\n",
            "250/250 [==============================] - 2s 9ms/step - loss: 0.0595 - accuracy: 0.9732\n",
            "Epoch 25/50\n",
            "250/250 [==============================] - 2s 9ms/step - loss: 0.0575 - accuracy: 0.9744\n",
            "Epoch 26/50\n",
            "250/250 [==============================] - 2s 9ms/step - loss: 0.0557 - accuracy: 0.9759\n",
            "Epoch 27/50\n",
            "250/250 [==============================] - 3s 12ms/step - loss: 0.0543 - accuracy: 0.9749\n",
            "Epoch 28/50\n",
            "250/250 [==============================] - 3s 11ms/step - loss: 0.0532 - accuracy: 0.9761\n",
            "Epoch 29/50\n",
            "250/250 [==============================] - 2s 9ms/step - loss: 0.0526 - accuracy: 0.9769\n",
            "Epoch 30/50\n",
            "250/250 [==============================] - 2s 9ms/step - loss: 0.0503 - accuracy: 0.9776\n",
            "Epoch 31/50\n",
            "250/250 [==============================] - 2s 9ms/step - loss: 0.0498 - accuracy: 0.9769\n",
            "Epoch 32/50\n",
            "250/250 [==============================] - 3s 11ms/step - loss: 0.0485 - accuracy: 0.9787\n",
            "Epoch 33/50\n",
            "250/250 [==============================] - 3s 12ms/step - loss: 0.0483 - accuracy: 0.9770\n",
            "Epoch 34/50\n",
            "250/250 [==============================] - 2s 10ms/step - loss: 0.0468 - accuracy: 0.9768\n",
            "Epoch 35/50\n",
            "250/250 [==============================] - 2s 10ms/step - loss: 0.0458 - accuracy: 0.9791\n",
            "Epoch 36/50\n",
            "250/250 [==============================] - 2s 9ms/step - loss: 0.0464 - accuracy: 0.9775\n",
            "Epoch 37/50\n",
            "250/250 [==============================] - 3s 11ms/step - loss: 0.0456 - accuracy: 0.9785\n",
            "Epoch 38/50\n",
            "250/250 [==============================] - 3s 12ms/step - loss: 0.0443 - accuracy: 0.9780\n",
            "Epoch 39/50\n",
            "250/250 [==============================] - 2s 9ms/step - loss: 0.0445 - accuracy: 0.9785\n",
            "Epoch 40/50\n",
            "250/250 [==============================] - 2s 9ms/step - loss: 0.0435 - accuracy: 0.9796\n",
            "Epoch 41/50\n",
            "250/250 [==============================] - 2s 9ms/step - loss: 0.0431 - accuracy: 0.9789\n",
            "Epoch 42/50\n",
            "250/250 [==============================] - 3s 10ms/step - loss: 0.0419 - accuracy: 0.9805\n",
            "Epoch 43/50\n",
            "250/250 [==============================] - 4s 15ms/step - loss: 0.0425 - accuracy: 0.9803\n",
            "Epoch 44/50\n",
            "250/250 [==============================] - 2s 9ms/step - loss: 0.0415 - accuracy: 0.9789\n",
            "Epoch 45/50\n",
            "250/250 [==============================] - 2s 10ms/step - loss: 0.0422 - accuracy: 0.9785\n",
            "Epoch 46/50\n",
            "250/250 [==============================] - 2s 9ms/step - loss: 0.0411 - accuracy: 0.9805\n",
            "Epoch 47/50\n",
            "250/250 [==============================] - 3s 11ms/step - loss: 0.0409 - accuracy: 0.9801\n",
            "Epoch 48/50\n",
            "250/250 [==============================] - 3s 12ms/step - loss: 0.0405 - accuracy: 0.9793\n",
            "Epoch 49/50\n",
            "250/250 [==============================] - 2s 9ms/step - loss: 0.0405 - accuracy: 0.9793\n",
            "Epoch 50/50\n",
            "250/250 [==============================] - 2s 10ms/step - loss: 0.0398 - accuracy: 0.9797\n"
          ]
        }
      ],
      "source": [
        "history = model.fit(X_train, y_train, epochs=50, batch_size=32)"
      ]
    },
    {
      "cell_type": "code",
      "execution_count": 28,
      "metadata": {
        "colab": {
          "base_uri": "https://localhost:8080/"
        },
        "id": "qex3Po8WHuRS",
        "outputId": "0de82582-00f8-4afb-978f-bba39387d985"
      },
      "outputs": [
        {
          "output_type": "stream",
          "name": "stdout",
          "text": [
            "63/63 [==============================] - 0s 5ms/step\n"
          ]
        }
      ],
      "source": [
        "y_pred = model.predict(X_test)\n",
        "\n",
        "# To obtain the predicted labels by selecting the index with the highest value \n",
        "predicted_labels = tf.argmax(y_pred, axis=1).numpy()\n"
      ]
    },
    {
      "cell_type": "code",
      "execution_count": 29,
      "metadata": {
        "id": "qWcpKe35I5Tc"
      },
      "outputs": [],
      "source": [
        "# Access loss and accuracy values from the history\n",
        "loss = history.history['loss']\n",
        "accuracy = history.history['accuracy']\n"
      ]
    },
    {
      "cell_type": "code",
      "execution_count": 30,
      "metadata": {
        "colab": {
          "base_uri": "https://localhost:8080/"
        },
        "id": "c_E3gI0WJtX6",
        "outputId": "3dc54733-c1a2-4282-904d-65e513db240a"
      },
      "outputs": [
        {
          "output_type": "stream",
          "name": "stdout",
          "text": [
            "0.08358337812125682\n",
            "0.9640450012683869\n"
          ]
        }
      ],
      "source": [
        "loss_mean = np.mean(loss)\n",
        "accuracy_mean=np.mean(accuracy)\n",
        "\n",
        "print(loss_mean)\n",
        "print(accuracy_mean)"
      ]
    },
    {
      "cell_type": "code",
      "source": [],
      "metadata": {
        "id": "j2wbUOlgPeA5"
      },
      "execution_count": null,
      "outputs": []
    }
  ],
  "metadata": {
    "colab": {
      "provenance": []
    },
    "kernelspec": {
      "display_name": "Python 3 (ipykernel)",
      "language": "python",
      "name": "python3"
    },
    "language_info": {
      "codemirror_mode": {
        "name": "ipython",
        "version": 3
      },
      "file_extension": ".py",
      "mimetype": "text/x-python",
      "name": "python",
      "nbconvert_exporter": "python",
      "pygments_lexer": "ipython3",
      "version": "3.10.4"
    }
  },
  "nbformat": 4,
  "nbformat_minor": 0
}